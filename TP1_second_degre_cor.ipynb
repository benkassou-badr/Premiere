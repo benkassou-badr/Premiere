{
 "cells": [
  {
   "cell_type": "markdown",
   "metadata": {},
   "source": [
    "# TP Python - Modélisation d'un pont en arc\n",
    "\n",
    "## Objectifs\n",
    "- Modéliser une situation réelle par une fonction quadratique\n",
    "- Déterminer la forme canonique, le sommet, l'axe de symétrie\n",
    "- Calculer le discriminant et les racines et interpréter les résultats\n",
    "- Compléter pas à pas des scripts Python"
   ]
  },
  {
   "cell_type": "markdown",
   "metadata": {},
   "source": [
    "## Situation réelle\n",
    "\n",
    "Un jardinier veut construire un **pont en arc** au-dessus d'un bassin.  \n",
    "La forme du pont est modélisée par la parabole :\n",
    "$$\n",
    "f(x) = -0.5x^2 + 2x + 1\n",
    "$$\n",
    "où $x$ est la distance horizontale (m) depuis le bord gauche et $f(x)$ la hauteur (m) du pont."
   ]
  },
  {
   "cell_type": "markdown",
   "metadata": {},
   "source": [
    "### 1. Identifier les coefficients $a$, $b$, $c$\n",
    "\n",
    "Pour la fonction $f(x) = -0.5x^2 + 2x + 1$, compléter :\n",
    "$$\n",
    "a = \\underline{\\hspace{2cm}}, \\quad\n",
    "b = \\underline{\\hspace{2cm}}, \\quad\n",
    "c = \\underline{\\hspace{2cm}}.\n",
    "$$"
   ]
  },
  {
   "cell_type": "code",
   "execution_count": null,
   "metadata": {},
   "outputs": [],
   "source": [
    "# Réponse question 1\n",
    "a = -0.5\n",
    "b = 2\n",
    "c = 1\n",
    "\n",
    "print(f\"a = {a}, b = {b}, c = {c}\")"
   ]
  },
  {
   "cell_type": "markdown",
   "metadata": {},
   "source": [
    "### 2. Forme canonique\n",
    "\n",
    "Compléter le programme Python pour déterminer la **forme canonique** de $f(x)$.\n",
    "\n",
    "*Utiliser-le ensuite pour calculer la hauteur maximale du pont et sa position.*"
   ]
  },
  {
   "cell_type": "code",
   "execution_count": null,
   "metadata": {},
   "outputs": [],
   "source": [
    "# Script Python question 2\n",
    "def forme_canonique(a, b, c):\n",
    "    alpha = -b / (2*a)\n",
    "    beta = a * alpha**2 + b * alpha + c\n",
    "    return alpha, beta\n",
    "\n",
    "# -- Utilisation avec les coefficients --\n",
    "a = -0.5\n",
    "b = 2\n",
    "c = 1\n",
    "\n",
    "alpha, beta = forme_canonique(a, b, c)\n",
    "print(f\"Forme canonique : f(x) = {a}(x - ({alpha:.2f}))² + ({beta:.2f})\")\n",
    "print(f\"Hauteur maximale du pont : {beta:.2f} mètres\")\n",
    "print(f\"Position de la hauteur maximale : x = {alpha:.2f} mètres\")"
   ]
  },
  {
   "cell_type": "markdown",
   "metadata": {},
   "source": [
    "### 3. Axe de symétrie et sommet\n",
    "\n",
    "Compléter le script Python qui affiche l'équation de l'axe de symétrie."
   ]
  },
  {
   "cell_type": "code",
   "execution_count": null,
   "metadata": {},
   "outputs": [],
   "source": [
    "# Script Python question 3\n",
    "def caracteristiques_parabole(a, b, c):\n",
    "    alpha, beta = forme_canonique(a, b, c)\n",
    "    print(f\"Axe de symétrie : x = {alpha:.2f}\")\n",
    "    print(f\"Sommet : S({alpha:.2f} ; {beta:.2f})\")\n",
    "    return alpha, beta\n",
    "\n",
    "caracteristiques_parabole(-0.5, 2, 1)"
   ]
  },
  {
   "cell_type": "markdown",
   "metadata": {},
   "source": [
    "### 4. Calcul du discriminant\n",
    "\n",
    "Compléter la fonction `discriminant` qui calcule le **discriminant** $\\Delta$."
   ]
  },
  {
   "cell_type": "code",
   "execution_count": null,
   "metadata": {},
   "outputs": [],
   "source": [
    "# Script Python question 4\n",
    "def discriminant(a, b, c):\n",
    "    delta = b**2 - 4*a*c\n",
    "    return delta\n",
    "\n",
    "print(f\"Δ = {discriminant(-0.5, 2, 1)}\")"
   ]
  },
  {
   "cell_type": "markdown",
   "metadata": {},
   "source": [
    "### 5. Calcul des racines\n",
    "\n",
    "En utilisant la fonction `discriminant`, créer un programme Python qui calcule les racines.\n",
    "\n",
    "*Utiliser ce programme pour calculer les **racines** de $f(x)$ et interpréter leur signification (points où le pont touche le sol).*"
   ]
  },
  {
   "cell_type": "code",
   "execution_count": null,
   "metadata": {},
   "outputs": [],
   "source": [
    "# Script Python question 5\n",
    "import math\n",
    "\n",
    "def racines(a, b, c):\n",
    "    delta = discriminant(a, b, c)\n",
    "    \n",
    "    if delta > 0:\n",
    "        x1 = (-b - math.sqrt(delta)) / (2*a)\n",
    "        x2 = (-b + math.sqrt(delta)) / (2*a)\n",
    "        print(f\"Deux racines réelles : x1 = {x1:.2f}, x2 = {x2:.2f}\")\n",
    "        print(\"Interprétation : Le pont touche le sol en deux points\")\n",
    "        return (x1, x2)\n",
    "        \n",
    "    elif delta == 0:\n",
    "        x0 = -b / (2*a)\n",
    "        print(f\"Une racine double : x0 = {x0:.2f}\")\n",
    "        print(\"Interprétation : Le pont touche le sol en un seul point\")\n",
    "        return x0\n",
    "\n",
    "    else:\n",
    "        print(\"Pas de racines réelles\")\n",
    "        print(\"Interprétation : Le pont ne touche pas le sol\")\n",
    "        return ()\n",
    "\n",
    "# -- Application\n",
    "a, b, c = -0.5, 2, 1\n",
    "racines(a, b, c)"
   ]
  },
  {
   "cell_type": "markdown",
   "metadata": {},
   "source": [
    "## Visualisation graphique"
   ]
  },
  {
   "cell_type": "code",
   "execution_count": null,
   "metadata": {},
   "outputs": [],
   "source": [
    "import matplotlib.pyplot as plt\n",
    "import numpy as np\n",
    "\n",
    "# Création des points pour le graphique\n",
    "x = np.linspace(-1, 5, 400)\n",
    "y = a*x**2 + b*x + c\n",
    "\n",
    "# Calcul des caractéristiques\n",
    "alpha, beta = forme_canonique(a, b, c)\n",
    "racines_calc = racines(a, b, c)\n",
    "\n",
    "plt.figure(figsize=(10, 6))\n",
    "plt.plot(x, y, 'b-', linewidth=2, label=f'f(x) = {a}x² + {b}x + {c}')\n",
    "plt.axhline(y=0, color='k', linestyle='--', alpha=0.3)\n",
    "plt.axvline(x=alpha, color='r', linestyle='--', alpha=0.7, label=f'Axe de symétrie x = {alpha:.2f}')\n",
    "\n",
    "# Marquer le sommet\n",
    "plt.plot(alpha, beta, 'ro', markersize=8, label=f'Sommet S({alpha:.2f}, {beta:.2f})')\n",
    "\n",
    "# Marquer les racines si elles existent\n",
    "if isinstance(racines_calc, tuple) and len(racines_calc) == 2:\n",
    "    x1, x2 = racines_calc\n",
    "    plt.plot(x1, 0, 'go', markersize=8, label=f'Racine x1 = {x1:.2f}')\n",
    "    plt.plot(x2, 0, 'go', markersize=8, label=f'Racine x2 = {x2:.2f}')\n",
    "elif isinstance(racines_calc, float):\n",
    "    plt.plot(racines_calc, 0, 'go', markersize=8, label=f'Racine double x0 = {racines_calc:.2f}')\n",
    "\n",
    "plt.xlabel('Distance horizontale (m)')\n",
    "plt.ylabel('Hauteur (m)')\n",
    "plt.title('Modélisation du pont en arc')\n",
    "plt.grid(True, alpha=0.3)\n",
    "plt.legend()\n",
    "plt.axis([-1, 5, -2, 4])\n",
    "plt.show()"
   ]
  },
  {
   "cell_type": "markdown",
   "metadata": {},
   "source": [
    "## Synthèse des résultats\n",
    "\n",
    "- **Forme canonique** : $f(x) = -0.5(x - 2.00)^2 + 3.00$\n",
    "- **Sommet** : $S(2.00; 3.00)$ → Hauteur maximale du pont : 3.00 mètres\n",
    "- **Axe de symétrie** : $x = 2.00$ mètres\n",
    "- **Racines** : $x_1 = -0.45$, $x_2 = 4.45$ → Le pont touche le sol à ces deux points\n",
    "- **Largeur du pont** : $4.45 - (-0.45) = 4.90$ mètres"
   ]
  },
  {
   "cell_type": "markdown",
   "metadata": {},
   "source": [
    "## Questions de réflexion\n",
    "\n",
    "1. **Que représente physiquement la valeur de $\\beta$ dans la forme canonique ?**\n",
    "\n",
    "2. **Pourquoi l'axe de symétrie est-il important dans la construction du pont ?**\n",
    "\n",
    "3. **Que se passerait-il si le discriminant était négatif ? Comment interpréter cela physiquement ?**\n",
    "\n",
    "4. **Comment pourriez-vous modifier la fonction pour que le pont soit plus haut ou plus large ?**"
   ]
  },
  {
   "cell_type": "code",
   "execution_count": null,
   "metadata": {},
   "outputs": [],
   "source": [
    "# Espace pour répondre aux questions de réflexion\n",
    "print(\"Réponses aux questions de réflexion :\")\n",
    "print(\"1. β représente la hauteur maximale du pont\")\n",
    "print(\"2. L'axe de symétrie assure l'équilibre et l'esthétique du pont\")\n",
    "print(\"3. Si Δ < 0, le pont ne toucherait pas le sol (pont suspendu)\")\n",
    "print(\"4. Modifier 'a' change la hauteur, modifier les racines change la largeur\")"
   ]
  }
 ],
 "metadata": {
  "kernelspec": {
   "display_name": "Python 3",
   "language": "python",
   "name": "python3"
  },
  "language_info": {
   "codemirror_mode": {
    "name": "ipython",
    "version": 3
   },
   "file_extension": ".py",
   "mimetype": "text/x-python",
   "name": "python",
   "nbconvert_exporter": "python",
   "pygments_lexer": "ipython3",
   "version": "3.8.0"
  }
 },
 "nbformat": 4,
 "nbformat_minor": 4

}

